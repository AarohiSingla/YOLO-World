{
 "cells": [
  {
   "cell_type": "markdown",
   "id": "023afb97-fd1d-4d4e-ae32-c1e37716dfe6",
   "metadata": {},
   "source": [
    "## YOLO-WORLD\n",
    "\n",
    "YOLO-WORLD paper:  https://arxiv.org/pdf/2401.17270v2.pdf\n",
    "\n",
    "Source code: https://github.com/AILab-CVC/YOLO-World"
   ]
  },
  {
   "cell_type": "code",
   "execution_count": 11,
   "id": "81f885db-3fac-49c6-af77-774d2b6ede84",
   "metadata": {},
   "outputs": [],
   "source": [
    "#!pip install ultralytics"
   ]
  },
  {
   "cell_type": "code",
   "execution_count": 1,
   "id": "fed1de09-a502-4194-bf5b-1d1d4b78f675",
   "metadata": {},
   "outputs": [
    {
     "name": "stdout",
     "output_type": "stream",
     "text": [
      "WARNING ⚠️ Ultralytics settings reset to default values. This may be due to a possible problem with your settings or a recent ultralytics package update. \n",
      "View settings with 'yolo settings' or at 'C:\\Users\\f\\AppData\\Roaming\\Ultralytics\\settings.yaml'\n",
      "Update settings with 'yolo settings key=value', i.e. 'yolo settings runs_dir=path/to/dir'.\n"
     ]
    },
    {
     "data": {
      "text/plain": [
       "'8.1.17'"
      ]
     },
     "execution_count": 1,
     "metadata": {},
     "output_type": "execute_result"
    }
   ],
   "source": [
    "import ultralytics\n",
    "ultralytics.__version__"
   ]
  },
  {
   "cell_type": "markdown",
   "id": "68bea651-24f9-4068-929b-7df5d8d8c831",
   "metadata": {},
   "source": [
    "### loading a pre-trained yolo-world model and running a prediction on an image."
   ]
  },
  {
   "cell_type": "code",
   "execution_count": 13,
   "id": "423170a2-db8f-4803-b2ef-7dae42ffd21c",
   "metadata": {},
   "outputs": [
    {
     "name": "stdout",
     "output_type": "stream",
     "text": [
      "\n",
      "image 1/1 D:\\YOLO_WORLD_env\\yolo_world\\1.png: 544x640 4 persons, 1 car, 1 bus, 1 backpack, 1 handbag, 2 chairs, 104.3ms\n",
      "Speed: 1.5ms preprocess, 104.3ms inference, 1.0ms postprocess per image at shape (1, 3, 544, 640)\n",
      "Results saved to \u001b[1mruns\\detect\\predict3\u001b[0m\n"
     ]
    }
   ],
   "source": [
    "from ultralytics import YOLOWorld\n",
    "\n",
    "# Initialize a YOLO-World model\n",
    "model = YOLOWorld('yolov8s-world.pt')  # or select yolov8m/l-world.pt for different sizes\n",
    "\n",
    "# Execute inference with the YOLOv8s-world model on the specified image\n",
    "results = model.predict('1.png', device='cpu', save=True)\n",
    "\n",
    "# Show results\n",
    "results[0].show()"
   ]
  },
  {
   "cell_type": "markdown",
   "id": "3c754039-f7d1-4b2e-9ad4-3d8bb8a17fad",
   "metadata": {},
   "source": [
    "### Set prompts for specific tasks\n",
    "\n",
    "The YOLO-World framework allows for the dynamic specification of classes through custom prompts, empowering users to tailor the model to their specific needs without retraining. "
   ]
  },
  {
   "cell_type": "code",
   "execution_count": 14,
   "id": "c47f5879-3bd0-4c5a-93d1-43b940f01524",
   "metadata": {},
   "outputs": [
    {
     "name": "stdout",
     "output_type": "stream",
     "text": [
      "\n",
      "image 1/1 D:\\YOLO_WORLD_env\\yolo_world\\1.png: 544x640 4 persons, 98.2ms\n",
      "Speed: 2.0ms preprocess, 98.2ms inference, 1.0ms postprocess per image at shape (1, 3, 544, 640)\n",
      "Results saved to \u001b[1mruns\\detect\\predict4\u001b[0m\n"
     ]
    }
   ],
   "source": [
    "from ultralytics import YOLO\n",
    "\n",
    "# Initialize a YOLO-World model\n",
    "model = YOLO('yolov8s-world.pt')  # or choose yolov8m/l-world.pt\n",
    "\n",
    "# Define custom classes\n",
    "model.set_classes([\"person\", \"bus\"])\n",
    "\n",
    "# Execute prediction for specified categories on an image\n",
    "results = model.predict('1.png', device='cpu', save=True)\n",
    "\n",
    "# Show results\n",
    "results[0].show()"
   ]
  },
  {
   "cell_type": "markdown",
   "id": "e4519643-9e09-4aa7-87d0-501e1459709b",
   "metadata": {},
   "source": [
    "#### You can also save a model after setting custom classes. By doing this you create a version of the YOLO-World model that is specialized for your specific use case. "
   ]
  },
  {
   "cell_type": "code",
   "execution_count": 15,
   "id": "ee229783-2fad-4a2c-8908-ec6ecabfe318",
   "metadata": {},
   "outputs": [],
   "source": [
    "from ultralytics import YOLO\n",
    "\n",
    "# Initialize a YOLO-World model\n",
    "model = YOLO('yolov8s-world.pt')  # or select yolov8m/l-world.pt\n",
    "\n",
    "# Define custom classes\n",
    "model.set_classes([\"person\"])\n",
    "\n",
    "# Save the model with the defined offline vocabulary\n",
    "model.save(\"custom_yolov8s.pt\")"
   ]
  },
  {
   "cell_type": "markdown",
   "id": "7f9dc3f9-8aee-45a7-a568-bc75ea186a57",
   "metadata": {},
   "source": [
    "##### After saving, the custom_yolov8s.pt model behaves like any other pre-trained YOLOv8 model but with a key difference: it is now optimized to detect only the classes you have defined. "
   ]
  },
  {
   "cell_type": "markdown",
   "id": "d35740f1-0759-420d-98bc-dd2dbd6f0aaa",
   "metadata": {},
   "source": [
    "## Load custom model and perform predictions"
   ]
  },
  {
   "cell_type": "code",
   "execution_count": 16,
   "id": "cd0e7c98-0bbd-4b3d-a546-c299689f7bc4",
   "metadata": {},
   "outputs": [
    {
     "name": "stdout",
     "output_type": "stream",
     "text": [
      "\n",
      "image 1/1 D:\\YOLO_WORLD_env\\yolo_world\\2.jpg: 448x640 2 persons, 85.0ms\n",
      "Speed: 2.0ms preprocess, 85.0ms inference, 0.0ms postprocess per image at shape (1, 3, 448, 640)\n"
     ]
    }
   ],
   "source": [
    "from ultralytics import YOLO\n",
    "\n",
    "# Load your custom model\n",
    "model = YOLO('custom_yolov8s.pt')\n",
    "\n",
    "# Run inference to detect your custom classes\n",
    "results = model.predict('2.jpg', device='cpu')\n",
    "\n",
    "# Show results\n",
    "results[0].show()"
   ]
  },
  {
   "cell_type": "code",
   "execution_count": null,
   "id": "948c51cf-33ee-46fd-9837-1c946e98ce31",
   "metadata": {},
   "outputs": [],
   "source": []
  }
 ],
 "metadata": {
  "kernelspec": {
   "display_name": "Python 3 (ipykernel)",
   "language": "python",
   "name": "python3"
  },
  "language_info": {
   "codemirror_mode": {
    "name": "ipython",
    "version": 3
   },
   "file_extension": ".py",
   "mimetype": "text/x-python",
   "name": "python",
   "nbconvert_exporter": "python",
   "pygments_lexer": "ipython3",
   "version": "3.11.6"
  }
 },
 "nbformat": 4,
 "nbformat_minor": 5
}
